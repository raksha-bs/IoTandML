{
 "cells": [
  {
   "cell_type": "code",
   "execution_count": 1,
   "id": "781d05ae-0fea-4844-ae96-a127d18f5971",
   "metadata": {},
   "outputs": [],
   "source": [
    "import numpy as np\n",
    "import cv2\n",
    "from pathlib import Path\n",
    "from pathlib import Path\n",
    "from IPython.display import Image"
   ]
  },
  {
   "cell_type": "code",
   "execution_count": 2,
   "id": "d483f387-8a1e-4a5d-a291-97443c866d82",
   "metadata": {},
   "outputs": [],
   "source": [
    "#pip install numpy"
   ]
  },
  {
   "cell_type": "code",
   "execution_count": 3,
   "id": "c6982a87-d2f1-4cba-8fc0-e3b66dd4f8d8",
   "metadata": {},
   "outputs": [],
   "source": [
    "#pip install pandas"
   ]
  },
  {
   "cell_type": "code",
   "execution_count": 4,
   "id": "bf72d86a-4de2-425e-a9cc-73899ed8c218",
   "metadata": {},
   "outputs": [],
   "source": [
    "#pip install torch"
   ]
  },
  {
   "cell_type": "code",
   "execution_count": 5,
   "id": "5770e42a-760a-405c-b58c-013c51b81b75",
   "metadata": {},
   "outputs": [],
   "source": [
    "#pip install torch torchvision"
   ]
  },
  {
   "cell_type": "code",
   "execution_count": 6,
   "id": "78a98bba-2c8b-4ea4-84c6-891505ad747d",
   "metadata": {},
   "outputs": [],
   "source": [
    "#pip install --upgrade setuptools"
   ]
  },
  {
   "cell_type": "code",
   "execution_count": 7,
   "id": "79be28ef-2936-4fc4-b91b-56ba096d2e2f",
   "metadata": {},
   "outputs": [],
   "source": [
    "#pip install opencv-python"
   ]
  },
  {
   "cell_type": "code",
   "execution_count": 8,
   "id": "ce0870d6-ede2-4a40-b698-bc17a99aee88",
   "metadata": {},
   "outputs": [],
   "source": [
    "#pip install pyttsx3"
   ]
  },
  {
   "cell_type": "code",
   "execution_count": 9,
   "id": "16ee49e4-6884-4ff6-8de9-30d54eebe0d9",
   "metadata": {},
   "outputs": [],
   "source": [
    "#pip install torch torchvision torchaudio --upgrade"
   ]
  },
  {
   "cell_type": "code",
   "execution_count": 10,
   "id": "29ed9e82-b9d3-4d47-a22f-34f91890c076",
   "metadata": {},
   "outputs": [],
   "source": [
    "import torch"
   ]
  },
  {
   "cell_type": "code",
   "execution_count": 11,
   "id": "569b48ff-2e65-40ab-88e9-79bf7d5a8402",
   "metadata": {},
   "outputs": [
    {
     "name": "stderr",
     "output_type": "stream",
     "text": [
      "Using cache found in C:\\Users\\Shriraksha B S/.cache\\torch\\hub\\ultralytics_yolov5_master\n",
      "YOLOv5  2024-3-10 Python-3.12.2 torch-2.2.1+cpu CPU\n",
      "\n",
      "Fusing layers... \n",
      "YOLOv5s summary: 213 layers, 7225885 parameters, 0 gradients, 16.4 GFLOPs\n",
      "Adding AutoShape... \n"
     ]
    }
   ],
   "source": [
    "model=torch.hub.load('ultralytics/yolov5','yolov5s',pretrained=True)"
   ]
  },
  {
   "cell_type": "code",
   "execution_count": 12,
   "id": "4b23bb7d-0a5f-43e6-8e11-7b49c6c18b79",
   "metadata": {},
   "outputs": [],
   "source": [
    "import cv2\n",
    "import pyttsx3\n",
    "import time  # Import the time module\n",
    "\n",
    "# Initialize text-to-speech engine\n",
    "engine = pyttsx3.init()\n",
    "\n",
    "# Open camera stream\n",
    "cap = cv2.VideoCapture(0)\n",
    "\n",
    "# Load your model here (assuming 'model' is defined somewhere in your original context)\n",
    "# model = ...\n",
    "\n",
    "while True:\n",
    "    ret, frame = cap.read()\n",
    "    \n",
    "    # Check if frame was successfully captured\n",
    "    if not ret:\n",
    "        print(\"Failed to capture frame from camera.\")\n",
    "        break\n",
    "    \n",
    "    # Convert the frame to RGB color space if needed\n",
    "    frame = cv2.cvtColor(frame, cv2.COLOR_BGR2RGB)\n",
    "    \n",
    "    # Perform object detection\n",
    "    results = model(frame)\n",
    "    df_result = results.pandas().xyxy[0]\n",
    "    dict_result = df_result.to_dict()\n",
    "    scores = list(dict_result[\"confidence\"].values())\n",
    "    labels = list(dict_result[\"name\"].values())\n",
    "    \n",
    "    list_boxes = []\n",
    "    for dict_item in df_result.to_dict('records'):\n",
    "        list_boxes.append(list(dict_item.values())[:4])\n",
    "    \n",
    "    # Display detection results and speak out closest object\n",
    "    closest_object = None\n",
    "    min_distance = float('inf')\n",
    "    for i, (xmin, ymin, xmax, ymax) in enumerate(list_boxes):\n",
    "        distance = (xmax - xmin) * 2 + (ymax - ymin) * 2  # Euclidean distance\n",
    "        if distance < min_distance:\n",
    "            min_distance = distance\n",
    "            closest_object = labels[i]\n",
    "            \n",
    "        frame = cv2.rectangle(frame, pt1=(int(xmin), int(ymin)), pt2=(int(xmax), int(ymax)), color=(255, 0, 0), thickness=2)\n",
    "        cv2.putText(frame, f\"{labels[i]}: {round(scores[i], 2)}\", (int(xmin), int(ymin) - 10), cv2.FONT_HERSHEY_SIMPLEX, 0.9, (36, 255, 12), 2)\n",
    "        \n",
    "    # Speak out the name of the closest object\n",
    "    if closest_object is not None:\n",
    "        engine.say(closest_object)\n",
    "        engine.runAndWait()\n",
    "    \n",
    "    # Convert the frame back to BGR color space for display\n",
    "    frame = cv2.cvtColor(frame, cv2.COLOR_RGB2BGR)\n",
    "    \n",
    "    cv2.imshow('Object Detector', frame)\n",
    "    \n",
    "    # Introduce a delay to increase latency\n",
    "    time.sleep(2.5)  # Adjust the sleep duration as needed (in seconds)\n",
    "    \n",
    "    if cv2.waitKey(1) & 0xFF == ord('q'):\n",
    "        cap.release()\n",
    "        cv2.destroyAllWindows()\n",
    "        break"
   ]
  }
 ],
 "metadata": {
  "kernelspec": {
   "display_name": "Python 3 (ipykernel)",
   "language": "python",
   "name": "python3"
  },
  "language_info": {
   "codemirror_mode": {
    "name": "ipython",
    "version": 3
   },
   "file_extension": ".py",
   "mimetype": "text/x-python",
   "name": "python",
   "nbconvert_exporter": "python",
   "pygments_lexer": "ipython3",
   "version": "3.12.2"
  }
 },
 "nbformat": 4,
 "nbformat_minor": 5
}
